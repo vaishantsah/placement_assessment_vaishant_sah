{
 "cells": [
  {
   "cell_type": "code",
   "execution_count": 8,
   "id": "f1148179-c1c1-4eee-9917-30c069cdf84e",
   "metadata": {},
   "outputs": [],
   "source": [
    "import json\n",
    "import pandas as pd\n",
    "from urllib.request import urlopen\n",
    "\n",
    "def pokem(url:str,output_name:str)->None:\n",
    "    \"\"\"\n",
    "    Accepts a url as a string, scraps the raw data as jsonm cleans it and returns a Data Frame of the pokemons and converts it to an excel sheet\n",
    "    \"\"\"\n",
    "    raw_data=urlopen(url).read()                    #reads the data from the provided URL\n",
    "    parsed_data= json.loads(raw_data)['pokemon']    #parses the raw from json format\n",
    "    data=pd.DataFrame(parsed_data)                  #converts the parsed data into a Data Frame \n",
    "    data.to_excel(output_name,index=False)          #saves the Fata Frame as an excel file forma\n",
    "if __name__ == \"__main__\":\n",
    "    url=\"https://raw.githubusercontent.com/Biuni/PokemonGO-Pokedex/master/pokedex.json\"\n",
    "    output_name=\"pokemon.xlsx\"\n",
    "    pokem(url,output_name)"
   ]
  },
  {
   "cell_type": "code",
   "execution_count": null,
   "id": "1455e9d7-9969-47fa-8e23-9dcdfeb59e62",
   "metadata": {},
   "outputs": [],
   "source": []
  }
 ],
 "metadata": {
  "kernelspec": {
   "display_name": "Python 3 (ipykernel)",
   "language": "python",
   "name": "python3"
  },
  "language_info": {
   "codemirror_mode": {
    "name": "ipython",
    "version": 3
   },
   "file_extension": ".py",
   "mimetype": "text/x-python",
   "name": "python",
   "nbconvert_exporter": "python",
   "pygments_lexer": "ipython3",
   "version": "3.10.6"
  }
 },
 "nbformat": 4,
 "nbformat_minor": 5
}
