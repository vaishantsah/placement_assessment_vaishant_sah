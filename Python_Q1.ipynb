{
 "cells": [
  {
   "cell_type": "code",
   "execution_count": null,
   "id": "48ea49c1-fdd3-41b3-91eb-bb0d8e5ba955",
   "metadata": {},
   "outputs": [],
   "source": [
    "def count_word_frequency(s:str)-> dict:\n",
    "    '''\n",
    "    Takes an input string and returns a frequency dictionary\n",
    "    params:\n",
    "        s: (str) input string\n",
    "    '''\n",
    "    word_frequency = dict()                  # initializing an empty dictionary\n",
    "    word_list = list(set(s.split(' ')))      # splits unique words from the string to a list\n",
    "    for word in word_list:\n",
    "        word_frequency[word] = s.count(word) # updating wordfrequency dictionary\n",
    "    \n",
    "    return word_frequency\n",
    "\n",
    "if __name__ == \"__main__\":\n",
    "    input_str = input(\"Enter a string:\\t\")  # taking input from user\n",
    "    word_frequency = count_word_frequency(input_str) # function call\n",
    "\n",
    "    for word, frequency in word_frequency.items():\n",
    "        print(f\"Word: '{word}' \\t Frequency: {frequency}\")"
   ]
  }
 ],
 "metadata": {
  "kernelspec": {
   "display_name": "Python 3 (ipykernel)",
   "language": "python",
   "name": "python3"
  },
  "language_info": {
   "codemirror_mode": {
    "name": "ipython",
    "version": 3
   },
   "file_extension": ".py",
   "mimetype": "text/x-python",
   "name": "python",
   "nbconvert_exporter": "python",
   "pygments_lexer": "ipython3",
   "version": "3.10.6"
  }
 },
 "nbformat": 4,
 "nbformat_minor": 5
}
