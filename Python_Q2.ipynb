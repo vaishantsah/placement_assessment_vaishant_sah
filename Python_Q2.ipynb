{
 "cells": [
  {
   "cell_type": "code",
   "execution_count": 6,
   "id": "b155b13c-4612-4c17-bfd5-c46624f92859",
   "metadata": {},
   "outputs": [
    {
     "name": "stdin",
     "output_type": "stream",
     "text": [
      "Please enter a string aabbcc\n"
     ]
    },
    {
     "name": "stdout",
     "output_type": "stream",
     "text": [
      "YES\n"
     ]
    }
   ],
   "source": [
    "def is_valid_string(s):\n",
    "    \"\"\"\n",
    "    Takes string as an input and checks for the given criteria\n",
    "    Returns \"YES\" or \"NO\" as string according to the fulfillment of the criteria\n",
    "    \"\"\"\n",
    "    char_counts = {}                                             #initialising empty dictionary\n",
    "    for char in s:\n",
    "        char_counts[char] = char_counts.get(char, 0) + 1         #counts the initial frequency of the characters\n",
    "\n",
    "    frequencies = list(char_counts.values())                     #creates a list of values\n",
    "\n",
    "    if all(freq == frequencies[0] for freq in frequencies):      #checks for the criteria\n",
    "        return \"YES\"\n",
    "\n",
    "    for i in range(len(frequencies)):                            #updating the count value\n",
    "        frequencies[i] -= 1\n",
    "        if all(freq == frequencies[0] for freq in frequencies):\n",
    "            return \"YES\"\n",
    "        frequencies[i] += 1\n",
    "\n",
    "    return \"NO\"\n",
    "if __name__ == \"__main__\":\n",
    "    s=input(\"Please enter a string\")\n",
    "    print(is_valid_string(s))                                    #Prints YES or NO"
   ]
  },
  {
   "cell_type": "code",
   "execution_count": null,
   "id": "43bd63f5-e2e4-4409-abff-88ef1dc87f11",
   "metadata": {},
   "outputs": [],
   "source": []
  }
 ],
 "metadata": {
  "kernelspec": {
   "display_name": "Python 3 (ipykernel)",
   "language": "python",
   "name": "python3"
  },
  "language_info": {
   "codemirror_mode": {
    "name": "ipython",
    "version": 3
   },
   "file_extension": ".py",
   "mimetype": "text/x-python",
   "name": "python",
   "nbconvert_exporter": "python",
   "pygments_lexer": "ipython3",
   "version": "3.10.6"
  }
 },
 "nbformat": 4,
 "nbformat_minor": 5
}
